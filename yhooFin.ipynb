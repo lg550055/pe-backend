{
  "nbformat": 4,
  "nbformat_minor": 0,
  "metadata": {
    "colab": {
      "name": "yhooFin.ipynb",
      "provenance": [],
      "collapsed_sections": [
        "Gjpkut9CVvKV"
      ],
      "authorship_tag": "ABX9TyP3wNfG6PMe9x/KUQrtFRdA",
      "include_colab_link": true
    },
    "kernelspec": {
      "name": "python3",
      "display_name": "Python 3"
    },
    "language_info": {
      "name": "python"
    }
  },
  "cells": [
    {
      "cell_type": "markdown",
      "metadata": {
        "id": "view-in-github",
        "colab_type": "text"
      },
      "source": [
        "<a href=\"https://colab.research.google.com/github/lg550055/pe-backend/blob/main/yhooFin.ipynb\" target=\"_parent\"><img src=\"https://colab.research.google.com/assets/colab-badge.svg\" alt=\"Open In Colab\"/></a>"
      ]
    },
    {
      "cell_type": "code",
      "source": [
        "import re\n",
        "import json\n",
        "import requests\n",
        "headers={'User-Agent': 'Mozilla/5.0 (X11; Linux x86_64) (KHTML, like Gecko) Chrome/102.0.5005.63'}\n",
        "ticker = 'WMT'"
      ],
      "metadata": {
        "id": "KgvE0LZSNivT"
      },
      "execution_count": 1,
      "outputs": []
    },
    {
      "cell_type": "code",
      "source": [
        "url = 'https://finance.yahoo.com/quote/'+ ticker + '/analysis?p=' + ticker\n",
        "page = requests.get(url, headers=headers, timeout=5)\n",
        "data = json.loads(re.search('root\\.App\\.main\\s*=\\s*(.*);', page.text).group(1))[\"context\"][\"dispatcher\"][\"stores\"]\n",
        "# only the data[\"QuoteSummaryStore\"]['earningsTrend']['trend'] object seems to have relevant info"
      ],
      "metadata": {
        "id": "1XXB8Yw-THJd"
      },
      "execution_count": 19,
      "outputs": []
    },
    {
      "cell_type": "code",
      "source": [
        "# field = [t for t in data[\"context\"][\"dispatcher\"][\"stores\"][\"QuoteSummaryStore\"][\"earningsTrend\"][\"trend\"] if t[\"period\"] == \"+5y\" ][0]\n",
        "f = [t for t in data[\"QuoteSummaryStore\"][\"earningsTrend\"][\"trend\"] if t[\"period\"] in ['0y','+1y']]\n",
        "num_analysts = f[0]['earningsEstimate']['numberOfAnalysts']['fmt']\n",
        "fwd_eps = f[0]['earningsEstimate']['avg']['fmt']\n",
        "fwd_rev = f[0]['revenueEstimate']['avg']['raw']\n",
        "fwd_rev_g = f[0]['revenueEstimate']['growth']['raw']\n",
        "fwd2_eps = f[1]['earningsEstimate']['avg']['fmt']\n",
        "fwd2_rev = f[1]['revenueEstimate']['avg']['fmt']\n",
        "fwd2_rev_g = f[1]['revenueEstimate']['growth']['fmt']\n",
        "print(num_analysts, fwd_eps, fwd_rev, fwd_rev_g, fwd2_eps, fwd2_rev, fwd2_rev_g)\n",
        "# print(\"Next 5 Years (per annum) : \" + field[\"growth\"][\"fmt\"])"
      ],
      "metadata": {
        "colab": {
          "base_uri": "https://localhost:8080/"
        },
        "id": "TplmYzrOF574",
        "outputId": "ab4da383-f652-4712-b0c3-40f4bd996d02"
      },
      "execution_count": null,
      "outputs": [
        {
          "output_type": "stream",
          "name": "stdout",
          "text": [
            "35 6.41 595703000000 0.04 6.96 616.08B 3.40%\n"
          ]
        }
      ]
    },
    {
      "cell_type": "code",
      "source": [
        "# url for is, bs, cf -but not all items, e.g. q dil shrs or net debt\n",
        "url = 'https://finance.yahoo.com/quote/'+ ticker + '/financials?p=' + ticker\n",
        "page = requests.get(url, headers=headers, timeout=5)\n",
        "data = json.loads(re.search('root\\.App\\.main\\s*=\\s*(.*);', page.text).group(1))[\"context\"][\"dispatcher\"][\"stores\"]"
      ],
      "metadata": {
        "id": "ihc2EOcp813d"
      },
      "execution_count": null,
      "outputs": []
    },
    {
      "cell_type": "code",
      "source": [
        "# rev = data[\"QuoteSummaryStore\"]['incomeStatementHistory']['incomeStatementHistory'][0]['totalRevenue']['fmt']\n",
        "# eop = data[\"QuoteSummaryStore\"]['incomeStatementHistory']['incomeStatementHistory'][0]['endDate']['fmt']\n",
        "# bseop = data[\"QuoteSummaryStore\"]['balanceSheetHistory']['balanceSheetStatements'][0]['endDate']['fmt']\n",
        "# dshrs = data[\"QuoteTimeSeriesStore\"]['timeSeries']['annualDilutedAverageShares'][-1]['reportedValue']['fmt']\n",
        "# data[\"QuoteTimeSeriesStore\"]['timeSeries']['trailingNormalizedEBITDA'][-1]['reportedValue']['fmt']\n",
        "# cfeop = data[\"QuoteSummaryStore\"]['cashflowStatementHistory']['cashflowStatements'][0]['endDate']['fmt']\n",
        "\n",
        "s = data[\"QuoteTimeSeriesStore\"]['meta']['symbol']\n",
        "p = data[\"QuoteSummaryStore\"]['price']['regularMarketPrice']['fmt']\n",
        "mcap = data[\"QuoteSummaryStore\"]['price']['marketCap']['fmt']\n",
        "eop = data[\"QuoteTimeSeriesStore\"]['timeSeries']['annualTotalRevenue'][-1]['asOfDate']\n",
        "rev = data[\"QuoteTimeSeriesStore\"]['timeSeries']['annualTotalRevenue'][-1]['reportedValue']['raw'] / 1e9\n",
        "ebit = data[\"QuoteTimeSeriesStore\"]['timeSeries']['annualEBIT'][-1]['reportedValue']['raw'] / 1e9\n",
        "opi = data[\"QuoteTimeSeriesStore\"]['timeSeries']['annualOperatingIncome'][-1]['reportedValue']['raw'] / 1e9\n",
        "ebitda = data[\"QuoteTimeSeriesStore\"]['timeSeries']['annualNormalizedEBITDA'][-1]['reportedValue']['raw'] / 1e9\n",
        "capex = data[\"QuoteSummaryStore\"]['cashflowStatementHistory']['cashflowStatements'][0]['capitalExpenditures']['raw'] / -1e9\n",
        "cfo = data[\"QuoteSummaryStore\"]['cashflowStatementHistory']['cashflowStatements'][0]['totalCashFromOperatingActivities']['raw'] / 1e9\n",
        "eps = data[\"QuoteTimeSeriesStore\"]['timeSeries']['annualDilutedEPS'][-1]['reportedValue']['fmt']\n",
        "print(s, p, mcap, eop, rev, opi, ebit, ebitda, ebitda-capex, cfo, eps, round(opi/rev*100,1), round(ebit/rev*100,1), round(ebitda/rev*100,1))"
      ],
      "metadata": {
        "id": "F0GcQg8ARmm1",
        "colab": {
          "base_uri": "https://localhost:8080/"
        },
        "outputId": "47e73678-0ae6-4a88-e941-6abc0da9437c"
      },
      "execution_count": null,
      "outputs": [
        {
          "output_type": "stream",
          "name": "stdout",
          "text": [
            "WMT 122.63 336.15B 2022-01-31 572.754 25.942 20.69 33.758 20.652 24.181 4.87 4.5 3.6 5.9\n"
          ]
        }
      ]
    },
    {
      "cell_type": "code",
      "source": [
        "# url for netDebt\n",
        "url = 'https://finance.yahoo.com/quote/'+ ticker + '/balance-sheet?p=' + ticker\n",
        "page = requests.get(url, headers=headers, timeout=5)\n",
        "data = json.loads(re.search('root\\.App\\.main\\s*=\\s*(.*);', page.text).group(1))[\"context\"][\"dispatcher\"][\"stores\"]\n",
        "# data.keys()"
      ],
      "metadata": {
        "id": "QOfL7XzobJXY"
      },
      "execution_count": 15,
      "outputs": []
    },
    {
      "cell_type": "code",
      "source": [
        "data[\"QuoteTimeSeriesStore\"]['timeSeries']['annualNetDebt'][-1]"
      ],
      "metadata": {
        "colab": {
          "base_uri": "https://localhost:8080/"
        },
        "id": "Ycc1Eemo_hTq",
        "outputId": "9895ac2f-e660-427c-b2f5-3cbc25bb1c41"
      },
      "execution_count": 17,
      "outputs": [
        {
          "output_type": "execute_result",
          "data": {
            "text/plain": [
              "{'asOfDate': '2022-01-31',\n",
              " 'currencyCode': 'USD',\n",
              " 'dataId': 23531,\n",
              " 'periodType': '12M',\n",
              " 'reportedValue': {'fmt': '23.32B', 'raw': 23317000000}}"
            ]
          },
          "metadata": {},
          "execution_count": 17
        }
      ]
    },
    {
      "cell_type": "markdown",
      "source": [
        "## Selenium"
      ],
      "metadata": {
        "id": "Gjpkut9CVvKV"
      }
    },
    {
      "cell_type": "code",
      "source": [
        "!pip install selenium\n",
        "!apt-get update \n",
        "!apt install chromium-chromedriver\n",
        "\n",
        "from selenium import webdriver\n",
        "chrome_options = webdriver.ChromeOptions()\n",
        "chrome_options.add_argument('--headless')\n",
        "chrome_options.add_argument('--no-sandbox')\n",
        "chrome_options.add_argument('--disable-dev-shm-usage')"
      ],
      "metadata": {
        "id": "yevJpSgbV2uh"
      },
      "execution_count": null,
      "outputs": []
    },
    {
      "cell_type": "code",
      "source": [
        "d = webdriver.Chrome('chromedriver',chrome_options=chrome_options)\n",
        "ss = input('Stock symbol?')\n",
        "d.get(f'https://finance.yahoo.com/quote/{ss}/analysis?p={ss}')\n",
        "main = d.find_element_by_id('Main')\n",
        "tds = main.find_elements_by_tag_name('td')\n",
        "if tds:\n",
        "  data = [e.text for e in tds]\n",
        "  print(data[0],data[4],data[5],data[8],data[9],data[30],data[33],data[34],data[50],data[53],data[54])\n",
        "else:\n",
        "  print('no data')\n",
        "d.quit()"
      ],
      "metadata": {
        "id": "Y84b3OeeV8nl"
      },
      "execution_count": null,
      "outputs": []
    }
  ]
}